{
  "nbformat": 4,
  "nbformat_minor": 0,
  "metadata": {
    "colab": {
      "name": "Iris Dataset.ipynb",
      "provenance": []
    },
    "kernelspec": {
      "name": "python3",
      "display_name": "Python 3"
    },
    "language_info": {
      "name": "python"
    }
  },
  "cells": [
    {
      "cell_type": "markdown",
      "metadata": {
        "id": "wKSKfWte_rpo"
      },
      "source": [
        "#**Iris Dataset - Clustering using K means | GRIP Task 1 | August21 | DataScience**\n",
        "\n",
        "### Author: Nimra Khan"
      ]
    },
    {
      "cell_type": "markdown",
      "metadata": {
        "id": "8OIp9Q5FAUov"
      },
      "source": [
        " **Introduction to data set**\n",
        " \n",
        "\n",
        "\n",
        "- The Iris dataset contains the data for 50 flowers from each of the 3 species \n",
        "Setosa, Versicolor and Virginica.\n",
        "- The data gives the measurements in centimeters of the following variables for each of the flowers:\n",
        "  - Sepal length and width\n",
        "  - Petal length and width\n",
        "- The task it poses of discriminating between three species of Iris from measurements of their petals and sepals is simple but challenging.\n",
        "\n"
      ]
    },
    {
      "cell_type": "markdown",
      "metadata": {
        "id": "LLmEiUnLa0Yw"
      },
      "source": [
        "**Attribute Information:**\n",
        "\n",
        "1. sepal length in cm\n",
        "2. sepal width in cm\n",
        "3. petal length in cm\n",
        "4. petal width in cm\n",
        "5. class:\n",
        "-- Iris Setosa\n",
        "\n",
        "-- Iris Versicolour\n",
        "\n",
        "-- Iris Virginica"
      ]
    },
    {
      "cell_type": "code",
      "metadata": {
        "id": "6TUgiCHEa5Uq"
      },
      "source": [
        "import numpy as np\n",
        "import pandas as pd\n",
        "import matplotlib.pyplot as plt\n",
        "import seaborn as sns\n"
      ],
      "execution_count": 59,
      "outputs": []
    },
    {
      "cell_type": "markdown",
      "metadata": {
        "id": "sWGJIlQFg9Re"
      },
      "source": [
        "#LOADING THE DATASET"
      ]
    },
    {
      "cell_type": "code",
      "metadata": {
        "id": "WUfqkexhcahL"
      },
      "source": [
        "# loading the csv data to a Pandas DataFrame\n",
        "iris = pd.read_csv('/Iris.csv')"
      ],
      "execution_count": 14,
      "outputs": []
    },
    {
      "cell_type": "code",
      "metadata": {
        "colab": {
          "base_uri": "https://localhost:8080/",
          "height": 295
        },
        "id": "ME7dyKWacjBC",
        "outputId": "ebf4bdeb-7090-497b-945b-1b403fd8251d"
      },
      "source": [
        "iris.describe()"
      ],
      "execution_count": 15,
      "outputs": [
        {
          "output_type": "execute_result",
          "data": {
            "text/html": [
              "<div>\n",
              "<style scoped>\n",
              "    .dataframe tbody tr th:only-of-type {\n",
              "        vertical-align: middle;\n",
              "    }\n",
              "\n",
              "    .dataframe tbody tr th {\n",
              "        vertical-align: top;\n",
              "    }\n",
              "\n",
              "    .dataframe thead th {\n",
              "        text-align: right;\n",
              "    }\n",
              "</style>\n",
              "<table border=\"1\" class=\"dataframe\">\n",
              "  <thead>\n",
              "    <tr style=\"text-align: right;\">\n",
              "      <th></th>\n",
              "      <th>Id</th>\n",
              "      <th>SepalLengthCm</th>\n",
              "      <th>SepalWidthCm</th>\n",
              "      <th>PetalLengthCm</th>\n",
              "      <th>PetalWidthCm</th>\n",
              "    </tr>\n",
              "  </thead>\n",
              "  <tbody>\n",
              "    <tr>\n",
              "      <th>count</th>\n",
              "      <td>150.000000</td>\n",
              "      <td>150.000000</td>\n",
              "      <td>150.000000</td>\n",
              "      <td>150.000000</td>\n",
              "      <td>150.000000</td>\n",
              "    </tr>\n",
              "    <tr>\n",
              "      <th>mean</th>\n",
              "      <td>75.500000</td>\n",
              "      <td>5.843333</td>\n",
              "      <td>3.054000</td>\n",
              "      <td>3.758667</td>\n",
              "      <td>1.198667</td>\n",
              "    </tr>\n",
              "    <tr>\n",
              "      <th>std</th>\n",
              "      <td>43.445368</td>\n",
              "      <td>0.828066</td>\n",
              "      <td>0.433594</td>\n",
              "      <td>1.764420</td>\n",
              "      <td>0.763161</td>\n",
              "    </tr>\n",
              "    <tr>\n",
              "      <th>min</th>\n",
              "      <td>1.000000</td>\n",
              "      <td>4.300000</td>\n",
              "      <td>2.000000</td>\n",
              "      <td>1.000000</td>\n",
              "      <td>0.100000</td>\n",
              "    </tr>\n",
              "    <tr>\n",
              "      <th>25%</th>\n",
              "      <td>38.250000</td>\n",
              "      <td>5.100000</td>\n",
              "      <td>2.800000</td>\n",
              "      <td>1.600000</td>\n",
              "      <td>0.300000</td>\n",
              "    </tr>\n",
              "    <tr>\n",
              "      <th>50%</th>\n",
              "      <td>75.500000</td>\n",
              "      <td>5.800000</td>\n",
              "      <td>3.000000</td>\n",
              "      <td>4.350000</td>\n",
              "      <td>1.300000</td>\n",
              "    </tr>\n",
              "    <tr>\n",
              "      <th>75%</th>\n",
              "      <td>112.750000</td>\n",
              "      <td>6.400000</td>\n",
              "      <td>3.300000</td>\n",
              "      <td>5.100000</td>\n",
              "      <td>1.800000</td>\n",
              "    </tr>\n",
              "    <tr>\n",
              "      <th>max</th>\n",
              "      <td>150.000000</td>\n",
              "      <td>7.900000</td>\n",
              "      <td>4.400000</td>\n",
              "      <td>6.900000</td>\n",
              "      <td>2.500000</td>\n",
              "    </tr>\n",
              "  </tbody>\n",
              "</table>\n",
              "</div>"
            ],
            "text/plain": [
              "               Id  SepalLengthCm  SepalWidthCm  PetalLengthCm  PetalWidthCm\n",
              "count  150.000000     150.000000    150.000000     150.000000    150.000000\n",
              "mean    75.500000       5.843333      3.054000       3.758667      1.198667\n",
              "std     43.445368       0.828066      0.433594       1.764420      0.763161\n",
              "min      1.000000       4.300000      2.000000       1.000000      0.100000\n",
              "25%     38.250000       5.100000      2.800000       1.600000      0.300000\n",
              "50%     75.500000       5.800000      3.000000       4.350000      1.300000\n",
              "75%    112.750000       6.400000      3.300000       5.100000      1.800000\n",
              "max    150.000000       7.900000      4.400000       6.900000      2.500000"
            ]
          },
          "metadata": {
            "tags": []
          },
          "execution_count": 15
        }
      ]
    },
    {
      "cell_type": "code",
      "metadata": {
        "colab": {
          "base_uri": "https://localhost:8080/",
          "height": 203
        },
        "id": "xy9hr05vc-xe",
        "outputId": "b9c6c308-38eb-4913-ce68-6e9248549610"
      },
      "source": [
        "iris.head()"
      ],
      "execution_count": 16,
      "outputs": [
        {
          "output_type": "execute_result",
          "data": {
            "text/html": [
              "<div>\n",
              "<style scoped>\n",
              "    .dataframe tbody tr th:only-of-type {\n",
              "        vertical-align: middle;\n",
              "    }\n",
              "\n",
              "    .dataframe tbody tr th {\n",
              "        vertical-align: top;\n",
              "    }\n",
              "\n",
              "    .dataframe thead th {\n",
              "        text-align: right;\n",
              "    }\n",
              "</style>\n",
              "<table border=\"1\" class=\"dataframe\">\n",
              "  <thead>\n",
              "    <tr style=\"text-align: right;\">\n",
              "      <th></th>\n",
              "      <th>Id</th>\n",
              "      <th>SepalLengthCm</th>\n",
              "      <th>SepalWidthCm</th>\n",
              "      <th>PetalLengthCm</th>\n",
              "      <th>PetalWidthCm</th>\n",
              "      <th>Species</th>\n",
              "    </tr>\n",
              "  </thead>\n",
              "  <tbody>\n",
              "    <tr>\n",
              "      <th>0</th>\n",
              "      <td>1</td>\n",
              "      <td>5.1</td>\n",
              "      <td>3.5</td>\n",
              "      <td>1.4</td>\n",
              "      <td>0.2</td>\n",
              "      <td>Iris-setosa</td>\n",
              "    </tr>\n",
              "    <tr>\n",
              "      <th>1</th>\n",
              "      <td>2</td>\n",
              "      <td>4.9</td>\n",
              "      <td>3.0</td>\n",
              "      <td>1.4</td>\n",
              "      <td>0.2</td>\n",
              "      <td>Iris-setosa</td>\n",
              "    </tr>\n",
              "    <tr>\n",
              "      <th>2</th>\n",
              "      <td>3</td>\n",
              "      <td>4.7</td>\n",
              "      <td>3.2</td>\n",
              "      <td>1.3</td>\n",
              "      <td>0.2</td>\n",
              "      <td>Iris-setosa</td>\n",
              "    </tr>\n",
              "    <tr>\n",
              "      <th>3</th>\n",
              "      <td>4</td>\n",
              "      <td>4.6</td>\n",
              "      <td>3.1</td>\n",
              "      <td>1.5</td>\n",
              "      <td>0.2</td>\n",
              "      <td>Iris-setosa</td>\n",
              "    </tr>\n",
              "    <tr>\n",
              "      <th>4</th>\n",
              "      <td>5</td>\n",
              "      <td>5.0</td>\n",
              "      <td>3.6</td>\n",
              "      <td>1.4</td>\n",
              "      <td>0.2</td>\n",
              "      <td>Iris-setosa</td>\n",
              "    </tr>\n",
              "  </tbody>\n",
              "</table>\n",
              "</div>"
            ],
            "text/plain": [
              "   Id  SepalLengthCm  SepalWidthCm  PetalLengthCm  PetalWidthCm      Species\n",
              "0   1            5.1           3.5            1.4           0.2  Iris-setosa\n",
              "1   2            4.9           3.0            1.4           0.2  Iris-setosa\n",
              "2   3            4.7           3.2            1.3           0.2  Iris-setosa\n",
              "3   4            4.6           3.1            1.5           0.2  Iris-setosa\n",
              "4   5            5.0           3.6            1.4           0.2  Iris-setosa"
            ]
          },
          "metadata": {
            "tags": []
          },
          "execution_count": 16
        }
      ]
    },
    {
      "cell_type": "code",
      "metadata": {
        "colab": {
          "base_uri": "https://localhost:8080/",
          "height": 203
        },
        "id": "X4rT0NzndCi6",
        "outputId": "6465ba03-f237-475b-f4e8-2696ac1438aa"
      },
      "source": [
        "iris.tail()"
      ],
      "execution_count": 17,
      "outputs": [
        {
          "output_type": "execute_result",
          "data": {
            "text/html": [
              "<div>\n",
              "<style scoped>\n",
              "    .dataframe tbody tr th:only-of-type {\n",
              "        vertical-align: middle;\n",
              "    }\n",
              "\n",
              "    .dataframe tbody tr th {\n",
              "        vertical-align: top;\n",
              "    }\n",
              "\n",
              "    .dataframe thead th {\n",
              "        text-align: right;\n",
              "    }\n",
              "</style>\n",
              "<table border=\"1\" class=\"dataframe\">\n",
              "  <thead>\n",
              "    <tr style=\"text-align: right;\">\n",
              "      <th></th>\n",
              "      <th>Id</th>\n",
              "      <th>SepalLengthCm</th>\n",
              "      <th>SepalWidthCm</th>\n",
              "      <th>PetalLengthCm</th>\n",
              "      <th>PetalWidthCm</th>\n",
              "      <th>Species</th>\n",
              "    </tr>\n",
              "  </thead>\n",
              "  <tbody>\n",
              "    <tr>\n",
              "      <th>145</th>\n",
              "      <td>146</td>\n",
              "      <td>6.7</td>\n",
              "      <td>3.0</td>\n",
              "      <td>5.2</td>\n",
              "      <td>2.3</td>\n",
              "      <td>Iris-virginica</td>\n",
              "    </tr>\n",
              "    <tr>\n",
              "      <th>146</th>\n",
              "      <td>147</td>\n",
              "      <td>6.3</td>\n",
              "      <td>2.5</td>\n",
              "      <td>5.0</td>\n",
              "      <td>1.9</td>\n",
              "      <td>Iris-virginica</td>\n",
              "    </tr>\n",
              "    <tr>\n",
              "      <th>147</th>\n",
              "      <td>148</td>\n",
              "      <td>6.5</td>\n",
              "      <td>3.0</td>\n",
              "      <td>5.2</td>\n",
              "      <td>2.0</td>\n",
              "      <td>Iris-virginica</td>\n",
              "    </tr>\n",
              "    <tr>\n",
              "      <th>148</th>\n",
              "      <td>149</td>\n",
              "      <td>6.2</td>\n",
              "      <td>3.4</td>\n",
              "      <td>5.4</td>\n",
              "      <td>2.3</td>\n",
              "      <td>Iris-virginica</td>\n",
              "    </tr>\n",
              "    <tr>\n",
              "      <th>149</th>\n",
              "      <td>150</td>\n",
              "      <td>5.9</td>\n",
              "      <td>3.0</td>\n",
              "      <td>5.1</td>\n",
              "      <td>1.8</td>\n",
              "      <td>Iris-virginica</td>\n",
              "    </tr>\n",
              "  </tbody>\n",
              "</table>\n",
              "</div>"
            ],
            "text/plain": [
              "      Id  SepalLengthCm  ...  PetalWidthCm         Species\n",
              "145  146            6.7  ...           2.3  Iris-virginica\n",
              "146  147            6.3  ...           1.9  Iris-virginica\n",
              "147  148            6.5  ...           2.0  Iris-virginica\n",
              "148  149            6.2  ...           2.3  Iris-virginica\n",
              "149  150            5.9  ...           1.8  Iris-virginica\n",
              "\n",
              "[5 rows x 6 columns]"
            ]
          },
          "metadata": {
            "tags": []
          },
          "execution_count": 17
        }
      ]
    },
    {
      "cell_type": "code",
      "metadata": {
        "colab": {
          "base_uri": "https://localhost:8080/"
        },
        "id": "v4VkZlrQfTBN",
        "outputId": "458e2ccd-6bdf-4337-ff34-30cf97969ad2"
      },
      "source": [
        "# number of rows and columns in the dataset\n",
        "iris.shape"
      ],
      "execution_count": 18,
      "outputs": [
        {
          "output_type": "execute_result",
          "data": {
            "text/plain": [
              "(150, 6)"
            ]
          },
          "metadata": {
            "tags": []
          },
          "execution_count": 18
        }
      ]
    },
    {
      "cell_type": "code",
      "metadata": {
        "colab": {
          "base_uri": "https://localhost:8080/"
        },
        "id": "M5dikrKIffqY",
        "outputId": "fcb36359-8f54-42d9-bf28-4aa354ab1d8c"
      },
      "source": [
        "# getting some info about the data\n",
        "iris.info()"
      ],
      "execution_count": 19,
      "outputs": [
        {
          "output_type": "stream",
          "text": [
            "<class 'pandas.core.frame.DataFrame'>\n",
            "RangeIndex: 150 entries, 0 to 149\n",
            "Data columns (total 6 columns):\n",
            " #   Column         Non-Null Count  Dtype  \n",
            "---  ------         --------------  -----  \n",
            " 0   Id             150 non-null    int64  \n",
            " 1   SepalLengthCm  150 non-null    float64\n",
            " 2   SepalWidthCm   150 non-null    float64\n",
            " 3   PetalLengthCm  150 non-null    float64\n",
            " 4   PetalWidthCm   150 non-null    float64\n",
            " 5   Species        150 non-null    object \n",
            "dtypes: float64(4), int64(1), object(1)\n",
            "memory usage: 7.2+ KB\n"
          ],
          "name": "stdout"
        }
      ]
    },
    {
      "cell_type": "code",
      "metadata": {
        "colab": {
          "base_uri": "https://localhost:8080/",
          "height": 203
        },
        "id": "UkeHF9F0gE3S",
        "outputId": "3b2787b7-e89a-42fc-e20f-8559ae505cfa"
      },
      "source": [
        "#WE ARE DELETING ID COLUMN AS IT IS OF NO USE \n",
        "iris = iris.drop(columns = ['Id'])\n",
        "iris.head()"
      ],
      "execution_count": 21,
      "outputs": [
        {
          "output_type": "execute_result",
          "data": {
            "text/html": [
              "<div>\n",
              "<style scoped>\n",
              "    .dataframe tbody tr th:only-of-type {\n",
              "        vertical-align: middle;\n",
              "    }\n",
              "\n",
              "    .dataframe tbody tr th {\n",
              "        vertical-align: top;\n",
              "    }\n",
              "\n",
              "    .dataframe thead th {\n",
              "        text-align: right;\n",
              "    }\n",
              "</style>\n",
              "<table border=\"1\" class=\"dataframe\">\n",
              "  <thead>\n",
              "    <tr style=\"text-align: right;\">\n",
              "      <th></th>\n",
              "      <th>SepalLengthCm</th>\n",
              "      <th>SepalWidthCm</th>\n",
              "      <th>PetalLengthCm</th>\n",
              "      <th>PetalWidthCm</th>\n",
              "      <th>Species</th>\n",
              "    </tr>\n",
              "  </thead>\n",
              "  <tbody>\n",
              "    <tr>\n",
              "      <th>0</th>\n",
              "      <td>5.1</td>\n",
              "      <td>3.5</td>\n",
              "      <td>1.4</td>\n",
              "      <td>0.2</td>\n",
              "      <td>Iris-setosa</td>\n",
              "    </tr>\n",
              "    <tr>\n",
              "      <th>1</th>\n",
              "      <td>4.9</td>\n",
              "      <td>3.0</td>\n",
              "      <td>1.4</td>\n",
              "      <td>0.2</td>\n",
              "      <td>Iris-setosa</td>\n",
              "    </tr>\n",
              "    <tr>\n",
              "      <th>2</th>\n",
              "      <td>4.7</td>\n",
              "      <td>3.2</td>\n",
              "      <td>1.3</td>\n",
              "      <td>0.2</td>\n",
              "      <td>Iris-setosa</td>\n",
              "    </tr>\n",
              "    <tr>\n",
              "      <th>3</th>\n",
              "      <td>4.6</td>\n",
              "      <td>3.1</td>\n",
              "      <td>1.5</td>\n",
              "      <td>0.2</td>\n",
              "      <td>Iris-setosa</td>\n",
              "    </tr>\n",
              "    <tr>\n",
              "      <th>4</th>\n",
              "      <td>5.0</td>\n",
              "      <td>3.6</td>\n",
              "      <td>1.4</td>\n",
              "      <td>0.2</td>\n",
              "      <td>Iris-setosa</td>\n",
              "    </tr>\n",
              "  </tbody>\n",
              "</table>\n",
              "</div>"
            ],
            "text/plain": [
              "   SepalLengthCm  SepalWidthCm  PetalLengthCm  PetalWidthCm      Species\n",
              "0            5.1           3.5            1.4           0.2  Iris-setosa\n",
              "1            4.9           3.0            1.4           0.2  Iris-setosa\n",
              "2            4.7           3.2            1.3           0.2  Iris-setosa\n",
              "3            4.6           3.1            1.5           0.2  Iris-setosa\n",
              "4            5.0           3.6            1.4           0.2  Iris-setosa"
            ]
          },
          "metadata": {
            "tags": []
          },
          "execution_count": 21
        }
      ]
    },
    {
      "cell_type": "code",
      "metadata": {
        "colab": {
          "base_uri": "https://localhost:8080/"
        },
        "id": "Kxkw_YVIhfgh",
        "outputId": "ecfff12e-7ae7-4dda-9ac4-02c6680b3eb3"
      },
      "source": [
        "# to display no. of samples on each class\n",
        "iris['Species'].value_counts()"
      ],
      "execution_count": 22,
      "outputs": [
        {
          "output_type": "execute_result",
          "data": {
            "text/plain": [
              "Iris-setosa        50\n",
              "Iris-virginica     50\n",
              "Iris-versicolor    50\n",
              "Name: Species, dtype: int64"
            ]
          },
          "metadata": {
            "tags": []
          },
          "execution_count": 22
        }
      ]
    },
    {
      "cell_type": "markdown",
      "metadata": {
        "id": "NeB_e92wiUea"
      },
      "source": [
        "for each class we have 50 samples"
      ]
    },
    {
      "cell_type": "markdown",
      "metadata": {
        "id": "60lDYW5xicNQ"
      },
      "source": [
        "#PREPROCESSING THE DATASET "
      ]
    },
    {
      "cell_type": "code",
      "metadata": {
        "colab": {
          "base_uri": "https://localhost:8080/"
        },
        "id": "VC8WDD-aihrz",
        "outputId": "6695b9ac-36eb-4d71-a231-8868b62aa1b4"
      },
      "source": [
        "# checking for missing values\n",
        "iris.isnull().sum()"
      ],
      "execution_count": 23,
      "outputs": [
        {
          "output_type": "execute_result",
          "data": {
            "text/plain": [
              "SepalLengthCm    0\n",
              "SepalWidthCm     0\n",
              "PetalLengthCm    0\n",
              "PetalWidthCm     0\n",
              "Species          0\n",
              "dtype: int64"
            ]
          },
          "metadata": {
            "tags": []
          },
          "execution_count": 23
        }
      ]
    },
    {
      "cell_type": "markdown",
      "metadata": {
        "id": "0B3JOcBtiqes"
      },
      "source": [
        "No Missing Value Found in data"
      ]
    },
    {
      "cell_type": "markdown",
      "metadata": {
        "id": "909hEFKmiwPU"
      },
      "source": [
        "#EXPLORATORY DATA ANALYSIS"
      ]
    },
    {
      "cell_type": "code",
      "metadata": {
        "colab": {
          "base_uri": "https://localhost:8080/",
          "height": 282
        },
        "id": "5m4D_jlni0Wz",
        "outputId": "3edcfbb7-ff03-4964-d3cc-3f5f4a2aaab5"
      },
      "source": [
        "iris['SepalLengthCm'].hist()"
      ],
      "execution_count": 24,
      "outputs": [
        {
          "output_type": "execute_result",
          "data": {
            "text/plain": [
              "<matplotlib.axes._subplots.AxesSubplot at 0x7ff7559e0c10>"
            ]
          },
          "metadata": {
            "tags": []
          },
          "execution_count": 24
        },
        {
          "output_type": "display_data",
          "data": {
            "image/png": "[encoded data removed]",
            "text/plain": [
              "<Figure size 432x288 with 1 Axes>"
            ]
          },
          "metadata": {
            "tags": [],
            "needs_background": "light"
          }
        }
      ]
    },
    {
      "cell_type": "code",
      "metadata": {
        "colab": {
          "base_uri": "https://localhost:8080/",
          "height": 282
        },
        "id": "2e35hFsYi-Tb",
        "outputId": "7ca1cac8-5295-4735-8239-ea9faf15bb9a"
      },
      "source": [
        "iris['SepalWidthCm'].hist()"
      ],
      "execution_count": 25,
      "outputs": [
        {
          "output_type": "execute_result",
          "data": {
            "text/plain": [
              "<matplotlib.axes._subplots.AxesSubplot at 0x7ff7559302d0>"
            ]
          },
          "metadata": {
            "tags": []
          },
          "execution_count": 25
        },
        {
          "output_type": "display_data",
          "data": {
            "image/png": "[encoded data removed]",
            "text/plain": [
              "<Figure size 432x288 with 1 Axes>"
            ]
          },
          "metadata": {
            "tags": [],
            "needs_background": "light"
          }
        }
      ]
    },
    {
      "cell_type": "code",
      "metadata": {
        "colab": {
          "base_uri": "https://localhost:8080/",
          "height": 282
        },
        "id": "1Utfbia2jGX6",
        "outputId": "43494bdf-8aaf-4e5b-ab35-c22e6cf95d23"
      },
      "source": [
        "iris['PetalLengthCm'].hist()"
      ],
      "execution_count": 26,
      "outputs": [
        {
          "output_type": "execute_result",
          "data": {
            "text/plain": [
              "<matplotlib.axes._subplots.AxesSubplot at 0x7ff75540f350>"
            ]
          },
          "metadata": {
            "tags": []
          },
          "execution_count": 26
        },
        {
          "output_type": "display_data",
          "data": {
            "image/png": "[encoded data removed]",
            "text/plain": [
              "<Figure size 432x288 with 1 Axes>"
            ]
          },
          "metadata": {
            "tags": [],
            "needs_background": "light"
          }
        }
      ]
    },
    {
      "cell_type": "code",
      "metadata": {
        "colab": {
          "base_uri": "https://localhost:8080/",
          "height": 282
        },
        "id": "cYHXZV6LjSVJ",
        "outputId": "89f3ee0f-4401-47ff-eda6-91c5e96475e6"
      },
      "source": [
        "iris['PetalWidthCm'].hist()"
      ],
      "execution_count": 27,
      "outputs": [
        {
          "output_type": "execute_result",
          "data": {
            "text/plain": [
              "<matplotlib.axes._subplots.AxesSubplot at 0x7ff755393b10>"
            ]
          },
          "metadata": {
            "tags": []
          },
          "execution_count": 27
        },
        {
          "output_type": "display_data",
          "data": {
            "image/png": "[encoded data removed]",
            "text/plain": [
              "<Figure size 432x288 with 1 Axes>"
            ]
          },
          "metadata": {
            "tags": [],
            "needs_background": "light"
          }
        }
      ]
    },
    {
      "cell_type": "code",
      "metadata": {
        "id": "LYEvkwX2mjDG"
      },
      "source": [
        "# scatterplot\n",
        "colours = ['red','green','pink']\n",
        "species = ['Iris-setosa','Iris-virginica','Iris-versicolor']"
      ],
      "execution_count": 36,
      "outputs": []
    },
    {
      "cell_type": "code",
      "metadata": {
        "colab": {
          "base_uri": "https://localhost:8080/",
          "height": 299
        },
        "id": "b_BqMGhlqXqK",
        "outputId": "840c4040-28b5-43fb-de4a-9766d0d499bb"
      },
      "source": [
        "for i in range(3):\n",
        "  x = iris[iris['Species'] == species[i]]\n",
        "  plt.scatter(x['SepalLengthCm'],x['SepalWidthCm'], c = colours[i], label=species[i])\n",
        "plt.xlabel('Sepal Length')\n",
        "plt.ylabel('Sepal Width')\n",
        "plt.legend()"
      ],
      "execution_count": 38,
      "outputs": [
        {
          "output_type": "execute_result",
          "data": {
            "text/plain": [
              "<matplotlib.legend.Legend at 0x7ff754dd7490>"
            ]
          },
          "metadata": {
            "tags": []
          },
          "execution_count": 38
        },
        {
          "output_type": "display_data",
          "data": {
            "image/png": "[encoded data removed]",
            "text/plain": [
              "<Figure size 432x288 with 1 Axes>"
            ]
          },
          "metadata": {
            "tags": [],
            "needs_background": "light"
          }
        }
      ]
    },
    {
      "cell_type": "code",
      "metadata": {
        "colab": {
          "base_uri": "https://localhost:8080/",
          "height": 296
        },
        "id": "CBTu8GgysQ3y",
        "outputId": "e1c1a5aa-7bfa-463e-a908-49e0621aee0a"
      },
      "source": [
        "for i in range(3):\n",
        "  x = iris[iris['Species'] == species[i]]\n",
        "  plt.scatter(x['PetalLengthCm'],x['PetalWidthCm'], c = colours[i], label=species[i])\n",
        "plt.xlabel('Petal Length')\n",
        "plt.ylabel('Petal Width')\n",
        "plt.legend()"
      ],
      "execution_count": 42,
      "outputs": [
        {
          "output_type": "execute_result",
          "data": {
            "text/plain": [
              "<matplotlib.legend.Legend at 0x7ff754c1ba50>"
            ]
          },
          "metadata": {
            "tags": []
          },
          "execution_count": 42
        },
        {
          "output_type": "display_data",
          "data": {
            "image/png": "[encoded data removed]",
            "text/plain": [
              "<Figure size 432x288 with 1 Axes>"
            ]
          },
          "metadata": {
            "tags": [],
            "needs_background": "light"
          }
        }
      ]
    },
    {
      "cell_type": "code",
      "metadata": {
        "colab": {
          "base_uri": "https://localhost:8080/",
          "height": 296
        },
        "id": "T8hiN2cTs9Dz",
        "outputId": "efb1aa25-62f0-4100-e283-eebf4cace46e"
      },
      "source": [
        "for i in range(3):\n",
        "  x = iris[iris['Species'] == species[i]]\n",
        "  plt.scatter(x['SepalLengthCm'],x['PetalLengthCm'], c = colours[i], label=species[i])\n",
        "plt.xlabel('Sepal Length')\n",
        "plt.ylabel('Petal Length')\n",
        "plt.legend()"
      ],
      "execution_count": 44,
      "outputs": [
        {
          "output_type": "execute_result",
          "data": {
            "text/plain": [
              "<matplotlib.legend.Legend at 0x7ff754b00350>"
            ]
          },
          "metadata": {
            "tags": []
          },
          "execution_count": 44
        },
        {
          "output_type": "display_data",
          "data": {
            "image/png": "[encoded data removed]",
            "text/plain": [
              "<Figure size 432x288 with 1 Axes>"
            ]
          },
          "metadata": {
            "tags": [],
            "needs_background": "light"
          }
        }
      ]
    },
    {
      "cell_type": "code",
      "metadata": {
        "colab": {
          "base_uri": "https://localhost:8080/",
          "height": 296
        },
        "id": "Rn8LX9rqtIoe",
        "outputId": "6bf0b6dc-3da5-40cd-d49b-47cb19282551"
      },
      "source": [
        "for i in range(3):\n",
        "  x = iris[iris['Species'] == species[i]]\n",
        "  plt.scatter(x['SepalWidthCm'],x['PetalWidthCm'], c = colours[i], label=species[i])\n",
        "plt.xlabel('Sepal Width')\n",
        "plt.ylabel('Pepal Width')\n",
        "plt.legend()"
      ],
      "execution_count": 45,
      "outputs": [
        {
          "output_type": "execute_result",
          "data": {
            "text/plain": [
              "<matplotlib.legend.Legend at 0x7ff754a90cd0>"
            ]
          },
          "metadata": {
            "tags": []
          },
          "execution_count": 45
        },
        {
          "output_type": "display_data",
          "data": {
            "image/png": "[encoded data removed]",
            "text/plain": [
              "<Figure size 432x288 with 1 Axes>"
            ]
          },
          "metadata": {
            "tags": [],
            "needs_background": "light"
          }
        }
      ]
    },
    {
      "cell_type": "markdown",
      "metadata": {
        "id": "GDXCu6If3LWt"
      },
      "source": [
        "#OPTIUM NUMBER OF CLUSTERS FOR K-MEANS"
      ]
    },
    {
      "cell_type": "code",
      "metadata": {
        "colab": {
          "base_uri": "https://localhost:8080/",
          "height": 295
        },
        "id": "d9MO9DCa1XYb",
        "outputId": "ec70ddcd-cb0e-4cac-b6cf-fa680a753c56"
      },
      "source": [
        "# Finding the optimum number of clusters for k-means classification\n",
        "\n",
        "x = iris.iloc[:, [0, 1, 2, 3]].values\n",
        "#here we import KMeans algorithm using sklearn library\n",
        "from sklearn.cluster import KMeans\n",
        "#here we use the very first method is Elbow Method\n",
        "wcss = []\n",
        "#here WCSS means Within Cluster Sum of Squares\n",
        "\n",
        "for i in range(1, 11):\n",
        "    kmeans = KMeans(n_clusters = i, init = 'k-means++', \n",
        "                    max_iter = 300, n_init = 10, random_state = 0)\n",
        "    kmeans.fit(x)\n",
        "    wcss.append(kmeans.inertia_)\n",
        "    \n",
        "#now here we plotting above result in line graph format\n",
        "plt.plot(range(1, 11), wcss)\n",
        "plt.title('The Elbow method')\n",
        "plt.xlabel('Number of clusters')\n",
        "plt.ylabel('WCSS') # Within cluster sum of squares\n",
        "plt.show()"
      ],
      "execution_count": 50,
      "outputs": [
        {
          "output_type": "display_data",
          "data": {
            "image/png": "[encoded data removed]",
            "text/plain": [
              "<Figure size 432x288 with 1 Axes>"
            ]
          },
          "metadata": {
            "tags": [],
            "needs_background": "light"
          }
        }
      ]
    },
    {
      "cell_type": "markdown",
      "metadata": {
        "id": "2q_UB_y598tQ"
      },
      "source": [
        "You can clearly see why it is called 'The elbow method' from the above graph, the optimum clusters is where the elbow occurs. This is when the within cluster sum of squares (WCSS) doesn't decrease significantly with every iteration.\n",
        "so from above we choose The Number of Clusters = 3\n",
        "                      ![download (1).png](data:image/png;base64,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)\n",
        "\n",
        "\n",
        "\n",
        "Now that we have the optimum amount of clusters, we can move on to applying K-means clustering to the Iris dataset."
      ]
    },
    {
      "cell_type": "markdown",
      "metadata": {
        "id": "A59K3-W63i8A"
      },
      "source": [
        "#APPLYING K-MEANS METHOD ON GIVEN DATASET"
      ]
    },
    {
      "cell_type": "code",
      "metadata": {
        "colab": {
          "base_uri": "https://localhost:8080/"
        },
        "id": "C5FrRqig3r2i",
        "outputId": "1918d454-a332-49df-fab0-fff39248625d"
      },
      "source": [
        "kmeans = KMeans(n_clusters=3,init='k-means++',max_iter=300,\n",
        "               n_init=10,random_state=5)\n",
        "y_kmeans = kmeans.fit_predict(x)\n",
        "print(y_kmeans)"
      ],
      "execution_count": 56,
      "outputs": [
        {
          "output_type": "stream",
          "text": [
            "[1 1 1 1 1 1 1 1 1 1 1 1 1 1 1 1 1 1 1 1 1 1 1 1 1 1 1 1 1 1 1 1 1 1 1 1 1\n",
            " 1 1 1 1 1 1 1 1 1 1 1 1 1 0 0 2 0 0 0 0 0 0 0 0 0 0 0 0 0 0 0 0 0 0 0 0 0\n",
            " 0 0 0 2 0 0 0 0 0 0 0 0 0 0 0 0 0 0 0 0 0 0 0 0 0 0 2 0 2 2 2 2 0 2 2 2 2\n",
            " 2 2 0 0 2 2 2 2 0 2 0 2 0 2 2 0 0 2 2 2 2 2 0 2 2 2 2 0 2 2 2 0 2 2 2 0 2\n",
            " 2 0]\n"
          ],
          "name": "stdout"
        }
      ]
    },
    {
      "cell_type": "code",
      "metadata": {
        "colab": {
          "base_uri": "https://localhost:8080/"
        },
        "id": "v59FT_Zw9aks",
        "outputId": "09f0dd9e-15c9-41df-c1df-28893546b1fe"
      },
      "source": [
        "kmeans.cluster_centers_"
      ],
      "execution_count": 57,
      "outputs": [
        {
          "output_type": "execute_result",
          "data": {
            "text/plain": [
              "array([[5.9016129 , 2.7483871 , 4.39354839, 1.43387097],\n",
              "       [5.006     , 3.418     , 1.464     , 0.244     ],\n",
              "       [6.85      , 3.07368421, 5.74210526, 2.07105263]])"
            ]
          },
          "metadata": {
            "tags": []
          },
          "execution_count": 57
        }
      ]
    },
    {
      "cell_type": "code",
      "metadata": {
        "colab": {
          "base_uri": "https://localhost:8080/",
          "height": 554
        },
        "id": "DTDBjiZW4A1w",
        "outputId": "9e81c35b-a547-4bbe-c77e-bfa2f33ba9da"
      },
      "source": [
        "# Visualizing the clusters\n",
        "plt.figure(figsize = (16,9))\n",
        "from matplotlib import style\n",
        "style.use('ggplot')\n",
        "plt.scatter(x[y_kmeans == 0,0],x[y_kmeans == 0,1],s = 100,\n",
        "           c = 'red',label = 'Iris-setosa',marker='*')\n",
        "plt.scatter(x[y_kmeans == 1,0],x[y_kmeans == 1,1],s = 100,\n",
        "           c = 'blue',label = 'Iris-versicolour',marker='*')\n",
        "plt.scatter(x[y_kmeans == 2,0],x[y_kmeans == 2,1],s = 100,\n",
        "           c = 'green',label = 'Iris-setosa',marker='*')\n",
        "plt.legend()"
      ],
      "execution_count": 54,
      "outputs": [
        {
          "output_type": "execute_result",
          "data": {
            "text/plain": [
              "<matplotlib.legend.Legend at 0x7ff74ad7cf90>"
            ]
          },
          "metadata": {
            "tags": []
          },
          "execution_count": 54
        },
        {
          "output_type": "display_data",
          "data": {
            "image/png": "[encoded data removed]",
            "text/plain": [
              "<Figure size 1152x648 with 1 Axes>"
            ]
          },
          "metadata": {
            "tags": [],
            "needs_background": "light"
          }
        }
      ]
    },
    {
      "cell_type": "code",
      "metadata": {
        "colab": {
          "base_uri": "https://localhost:8080/",
          "height": 554
        },
        "id": "54A2IB7N4nwM",
        "outputId": "efbb39b2-1c6c-4e3d-d718-d0db2cbf3460"
      },
      "source": [
        "#now we plotting Centroids of the clusters in above graph\n",
        "plt.figure(figsize = (16,9))\n",
        "style.use('ggplot')\n",
        "plt.scatter(x[y_kmeans == 0,0],x[y_kmeans == 0,1],s = 100,\n",
        "           c = 'red',label = 'Iris-setosa',marker='*')\n",
        "plt.scatter(x[y_kmeans == 1,0],x[y_kmeans == 1,1],s = 100,\n",
        "           c = 'blue',label = 'Iris-versicolour',marker='*')\n",
        "plt.scatter(x[y_kmeans == 2,0],x[y_kmeans == 2,1],s = 100,\n",
        "           c = 'green',label = 'Iris-setosa',marker='*')\n",
        "#add centers\n",
        "plt.scatter(kmeans.cluster_centers_[:,0],kmeans.cluster_centers_[:,1],\n",
        "           s=100,c='yellow',label='Cluster_Centroids')\n",
        "plt.legend()"
      ],
      "execution_count": 58,
      "outputs": [
        {
          "output_type": "execute_result",
          "data": {
            "text/plain": [
              "<matplotlib.legend.Legend at 0x7ff754e98890>"
            ]
          },
          "metadata": {
            "tags": []
          },
          "execution_count": 58
        },
        {
          "output_type": "display_data",
          "data": {
            "image/png": "[encoded data removed]",
            "text/plain": [
              "<Figure size 1152x648 with 1 Axes>"
            ]
          },
          "metadata": {
            "tags": []
          }
        }
      ]
    },
    {
      "cell_type": "markdown",
      "metadata": {
        "id": "qjYmX_zs48Ji"
      },
      "source": [
        "Here we represent Cluster centers in Yellow spot."
      ]
    }
  ]
}